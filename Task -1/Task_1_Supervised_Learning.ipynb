{
 "cells": [
  {
   "cell_type": "markdown",
   "id": "381c837b",
   "metadata": {},
   "source": [
    "# Name: Abhay Swarnkar"
   ]
  },
  {
   "cell_type": "markdown",
   "id": "8d581ba6",
   "metadata": {},
   "source": [
    "# The Sparks Foundation-Grip:- Data Science and Business Analytics "
   ]
  },
  {
   "cell_type": "markdown",
   "id": "8ea23fc3",
   "metadata": {},
   "source": [
    "# Task 1: Prediction using Supervised Machine Learning\n"
   ]
  },
  {
   "cell_type": "markdown",
   "id": "e738b4a7",
   "metadata": {},
   "source": [
    "## Author - Abhay Swarnkar"
   ]
  },
  {
   "cell_type": "markdown",
   "id": "4614fc99",
   "metadata": {},
   "source": [
    "## Dataset used: Student Scores\n",
    "      (*) It can be downloaded through the following link-http://bit.ly/w-data"
   ]
  },
  {
   "cell_type": "markdown",
   "id": "071b10c9",
   "metadata": {},
   "source": [
    "# Problem statement(s):"
   ]
  },
  {
   "cell_type": "markdown",
   "id": "cea7daf4",
   "metadata": {},
   "source": [
    "(*) Predict the Percentage of a student based on the no. of study hours.\n"
   ]
  },
  {
   "cell_type": "markdown",
   "id": "c2b858ac",
   "metadata": {},
   "source": [
    "(*) What will be predicted score if a student studies for 9.25hrs/day?"
   ]
  },
  {
   "cell_type": "markdown",
   "id": "7f88c570",
   "metadata": {},
   "source": [
    "# Steps\n",
    "### Step :1- Importing Python Package and Read CSV File \n",
    "### Step :2- Visuallizing the Dataset\n",
    "### Step :3- Data preparation\n",
    "### Setp :4- Training the algorithm\n",
    "### Step :5- Marking Predictions\n",
    "### Step :6- Evaluation"
   ]
  },
  {
   "cell_type": "markdown",
   "id": "d52f46d8",
   "metadata": {},
   "source": [
    "# Step 1 - Importing Python Package and read CSV File"
   ]
  },
  {
   "cell_type": "markdown",
   "id": "968cddc3",
   "metadata": {},
   "source": [
    "  ## Imoprt Python Package"
   ]
  },
  {
   "cell_type": "code",
   "execution_count": 29,
   "id": "d8a3da95",
   "metadata": {},
   "outputs": [],
   "source": [
    "import pandas as pd   \n",
    "import matplotlib.pyplot as plt \n",
    "import numpy as np"
   ]
  },
  {
   "cell_type": "markdown",
   "id": "6e50ad3b",
   "metadata": {},
   "source": [
    "Read CSV File (comma-separated values (CSV)  )"
   ]
  },
  {
   "cell_type": "code",
   "execution_count": 30,
   "id": "41a14e13",
   "metadata": {},
   "outputs": [
    {
     "name": "stdout",
     "output_type": "stream",
     "text": [
      "Shape of DataFrame-> (25, 2)\n"
     ]
    }
   ],
   "source": [
    "df=pd.read_csv('csv.csv')# read file .csv\n",
    "print(\"Shape of DataFrame->\",df.shape)# shape of data set\n"
   ]
  },
  {
   "cell_type": "code",
   "execution_count": 31,
   "id": "0f812cac",
   "metadata": {},
   "outputs": [
    {
     "data": {
      "text/html": [
       "<div>\n",
       "<style scoped>\n",
       "    .dataframe tbody tr th:only-of-type {\n",
       "        vertical-align: middle;\n",
       "    }\n",
       "\n",
       "    .dataframe tbody tr th {\n",
       "        vertical-align: top;\n",
       "    }\n",
       "\n",
       "    .dataframe thead th {\n",
       "        text-align: right;\n",
       "    }\n",
       "</style>\n",
       "<table border=\"1\" class=\"dataframe\">\n",
       "  <thead>\n",
       "    <tr style=\"text-align: right;\">\n",
       "      <th></th>\n",
       "      <th>Hours</th>\n",
       "      <th>Scores</th>\n",
       "    </tr>\n",
       "  </thead>\n",
       "  <tbody>\n",
       "    <tr>\n",
       "      <th>0</th>\n",
       "      <td>2.5</td>\n",
       "      <td>21</td>\n",
       "    </tr>\n",
       "    <tr>\n",
       "      <th>1</th>\n",
       "      <td>5.1</td>\n",
       "      <td>47</td>\n",
       "    </tr>\n",
       "    <tr>\n",
       "      <th>2</th>\n",
       "      <td>3.2</td>\n",
       "      <td>27</td>\n",
       "    </tr>\n",
       "    <tr>\n",
       "      <th>3</th>\n",
       "      <td>8.5</td>\n",
       "      <td>75</td>\n",
       "    </tr>\n",
       "    <tr>\n",
       "      <th>4</th>\n",
       "      <td>3.5</td>\n",
       "      <td>30</td>\n",
       "    </tr>\n",
       "  </tbody>\n",
       "</table>\n",
       "</div>"
      ],
      "text/plain": [
       "   Hours  Scores\n",
       "0    2.5      21\n",
       "1    5.1      47\n",
       "2    3.2      27\n",
       "3    8.5      75\n",
       "4    3.5      30"
      ]
     },
     "execution_count": 31,
     "metadata": {},
     "output_type": "execute_result"
    }
   ],
   "source": [
    "df.head() # print some data set from head section\n"
   ]
  },
  {
   "cell_type": "code",
   "execution_count": 32,
   "id": "fa44705c",
   "metadata": {},
   "outputs": [
    {
     "data": {
      "text/html": [
       "<div>\n",
       "<style scoped>\n",
       "    .dataframe tbody tr th:only-of-type {\n",
       "        vertical-align: middle;\n",
       "    }\n",
       "\n",
       "    .dataframe tbody tr th {\n",
       "        vertical-align: top;\n",
       "    }\n",
       "\n",
       "    .dataframe thead th {\n",
       "        text-align: right;\n",
       "    }\n",
       "</style>\n",
       "<table border=\"1\" class=\"dataframe\">\n",
       "  <thead>\n",
       "    <tr style=\"text-align: right;\">\n",
       "      <th></th>\n",
       "      <th>Hours</th>\n",
       "      <th>Scores</th>\n",
       "    </tr>\n",
       "  </thead>\n",
       "  <tbody>\n",
       "    <tr>\n",
       "      <th>20</th>\n",
       "      <td>2.7</td>\n",
       "      <td>30</td>\n",
       "    </tr>\n",
       "    <tr>\n",
       "      <th>21</th>\n",
       "      <td>4.8</td>\n",
       "      <td>54</td>\n",
       "    </tr>\n",
       "    <tr>\n",
       "      <th>22</th>\n",
       "      <td>3.8</td>\n",
       "      <td>35</td>\n",
       "    </tr>\n",
       "    <tr>\n",
       "      <th>23</th>\n",
       "      <td>6.9</td>\n",
       "      <td>76</td>\n",
       "    </tr>\n",
       "    <tr>\n",
       "      <th>24</th>\n",
       "      <td>7.8</td>\n",
       "      <td>86</td>\n",
       "    </tr>\n",
       "  </tbody>\n",
       "</table>\n",
       "</div>"
      ],
      "text/plain": [
       "    Hours  Scores\n",
       "20    2.7      30\n",
       "21    4.8      54\n",
       "22    3.8      35\n",
       "23    6.9      76\n",
       "24    7.8      86"
      ]
     },
     "execution_count": 32,
     "metadata": {},
     "output_type": "execute_result"
    }
   ],
   "source": [
    "df.tail() # print some data set from tail section"
   ]
  },
  {
   "cell_type": "code",
   "execution_count": 33,
   "id": "a1349b42",
   "metadata": {},
   "outputs": [
    {
     "data": {
      "text/plain": [
       "Hours     0\n",
       "Scores    0\n",
       "dtype: int64"
      ]
     },
     "execution_count": 33,
     "metadata": {},
     "output_type": "execute_result"
    }
   ],
   "source": [
    "df.isnull().sum() # check value, that's do'nt have mising value"
   ]
  },
  {
   "cell_type": "code",
   "execution_count": 34,
   "id": "67564096",
   "metadata": {},
   "outputs": [
    {
     "name": "stdout",
     "output_type": "stream",
     "text": [
      "<class 'pandas.core.frame.DataFrame'>\n",
      "RangeIndex: 25 entries, 0 to 24\n",
      "Data columns (total 2 columns):\n",
      " #   Column  Non-Null Count  Dtype  \n",
      "---  ------  --------------  -----  \n",
      " 0   Hours   25 non-null     float64\n",
      " 1   Scores  25 non-null     int64  \n",
      "dtypes: float64(1), int64(1)\n",
      "memory usage: 528.0 bytes\n"
     ]
    }
   ],
   "source": [
    "df.info() # This tell us whose  datatype use in data set, In this scenario use two type of data type"
   ]
  },
  {
   "cell_type": "code",
   "execution_count": 35,
   "id": "0316d5d5",
   "metadata": {},
   "outputs": [
    {
     "data": {
      "text/html": [
       "<div>\n",
       "<style scoped>\n",
       "    .dataframe tbody tr th:only-of-type {\n",
       "        vertical-align: middle;\n",
       "    }\n",
       "\n",
       "    .dataframe tbody tr th {\n",
       "        vertical-align: top;\n",
       "    }\n",
       "\n",
       "    .dataframe thead th {\n",
       "        text-align: right;\n",
       "    }\n",
       "</style>\n",
       "<table border=\"1\" class=\"dataframe\">\n",
       "  <thead>\n",
       "    <tr style=\"text-align: right;\">\n",
       "      <th></th>\n",
       "      <th>Hours</th>\n",
       "      <th>Scores</th>\n",
       "    </tr>\n",
       "  </thead>\n",
       "  <tbody>\n",
       "    <tr>\n",
       "      <th>count</th>\n",
       "      <td>25.000000</td>\n",
       "      <td>25.000000</td>\n",
       "    </tr>\n",
       "    <tr>\n",
       "      <th>mean</th>\n",
       "      <td>5.012000</td>\n",
       "      <td>51.480000</td>\n",
       "    </tr>\n",
       "    <tr>\n",
       "      <th>std</th>\n",
       "      <td>2.525094</td>\n",
       "      <td>25.286887</td>\n",
       "    </tr>\n",
       "    <tr>\n",
       "      <th>min</th>\n",
       "      <td>1.100000</td>\n",
       "      <td>17.000000</td>\n",
       "    </tr>\n",
       "    <tr>\n",
       "      <th>25%</th>\n",
       "      <td>2.700000</td>\n",
       "      <td>30.000000</td>\n",
       "    </tr>\n",
       "    <tr>\n",
       "      <th>50%</th>\n",
       "      <td>4.800000</td>\n",
       "      <td>47.000000</td>\n",
       "    </tr>\n",
       "    <tr>\n",
       "      <th>75%</th>\n",
       "      <td>7.400000</td>\n",
       "      <td>75.000000</td>\n",
       "    </tr>\n",
       "    <tr>\n",
       "      <th>max</th>\n",
       "      <td>9.200000</td>\n",
       "      <td>95.000000</td>\n",
       "    </tr>\n",
       "  </tbody>\n",
       "</table>\n",
       "</div>"
      ],
      "text/plain": [
       "           Hours     Scores\n",
       "count  25.000000  25.000000\n",
       "mean    5.012000  51.480000\n",
       "std     2.525094  25.286887\n",
       "min     1.100000  17.000000\n",
       "25%     2.700000  30.000000\n",
       "50%     4.800000  47.000000\n",
       "75%     7.400000  75.000000\n",
       "max     9.200000  95.000000"
      ]
     },
     "execution_count": 35,
     "metadata": {},
     "output_type": "execute_result"
    }
   ],
   "source": [
    "df.describe() # describe data set as values mean , min, max etc"
   ]
  },
  {
   "cell_type": "markdown",
   "id": "e7490728",
   "metadata": {},
   "source": [
    "  # Step 2 - Data Visualization  "
   ]
  },
  {
   "cell_type": "markdown",
   "id": "bf433644",
   "metadata": {},
   "source": [
    "To plot the dataset and check the relation between the variables.\n",
    "#### Now let's plot our data points on 2-D  Graph to eyeball our data set and see if we can manully find any relationship between the data. We can create the plot with following script:"
   ]
  },
  {
   "cell_type": "code",
   "execution_count": 50,
   "id": "db62497b",
   "metadata": {},
   "outputs": [
    {
     "data": {
      "text/plain": [
       "[<matplotlib.lines.Line2D at 0x7f09a9e947f0>]"
      ]
     },
     "execution_count": 50,
     "metadata": {},
     "output_type": "execute_result"
    },
    {
     "data": {
      "image/png": "[encoded data removed]",
      "text/plain": [
       "<Figure size 792x432 with 1 Axes>"
      ]
     },
     "metadata": {
      "needs_background": "light"
     },
     "output_type": "display_data"
    }
   ],
   "source": [
    "x,y=df['Hours'],df['Scores']\n",
    "plt.scatter(x,y,marker=\"o\",color='red')\n",
    "plt.plot(x,y,linestyle='--')"
   ]
  },
  {
   "cell_type": "code",
   "execution_count": 37,
   "id": "4ed76062",
   "metadata": {},
   "outputs": [
    {
     "data": {
      "image/png": "[encoded data removed]",
      "text/plain": [
       "<Figure size 792x432 with 1 Axes>"
      ]
     },
     "metadata": {
      "needs_background": "light"
     },
     "output_type": "display_data"
    }
   ],
   "source": [
    "# plotting distribution of graph\n",
    "plt.rcParams[\"figure.figsize\"]=[11,6]\n",
    "df.plot(kind='scatter',x='Hours',y='Scores',style='O',color='red') # plot graph use scatter \n",
    "plt.title(\"Hours Vs Scores\")\n",
    "plt.xlabel(\"Hours\")\n",
    "plt.ylabel(\"Percentage Score\")\n",
    "plt.grid()\n",
    "plt.show()"
   ]
  },
  {
   "cell_type": "markdown",
   "id": "bd19ff20",
   "metadata": {},
   "source": [
    "From this we clearly observe positive linear the relation between the variable, hours studies and percentage scored. The percentage score increases as the hours studies increased"
   ]
  },
  {
   "cell_type": "markdown",
   "id": "bf8da106",
   "metadata": {},
   "source": [
    "# Step 3 - Data Preparation "
   ]
  },
  {
   "cell_type": "markdown",
   "id": "ab3a2bfd",
   "metadata": {},
   "source": [
    "The next setp is to divide the data into 'attbutes' (inputs ) and 'lables'(output)"
   ]
  },
  {
   "cell_type": "code",
   "execution_count": 55,
   "id": "877a6cf8",
   "metadata": {},
   "outputs": [],
   "source": [
    "X=df.iloc[:,:1].values#spliting the data using iloc function.\n",
    "y=df.iloc[:,1:].values"
   ]
  },
  {
   "cell_type": "code",
   "execution_count": 53,
   "id": "1a4022e1",
   "metadata": {},
   "outputs": [
    {
     "data": {
      "text/plain": [
       "array([[2.5],\n",
       "       [5.1],\n",
       "       [3.2],\n",
       "       [8.5],\n",
       "       [3.5],\n",
       "       [1.5],\n",
       "       [9.2],\n",
       "       [5.5],\n",
       "       [8.3],\n",
       "       [2.7],\n",
       "       [7.7],\n",
       "       [5.9],\n",
       "       [4.5],\n",
       "       [3.3],\n",
       "       [1.1],\n",
       "       [8.9],\n",
       "       [2.5],\n",
       "       [1.9],\n",
       "       [6.1],\n",
       "       [7.4],\n",
       "       [2.7],\n",
       "       [4.8],\n",
       "       [3.8],\n",
       "       [6.9],\n",
       "       [7.8]])"
      ]
     },
     "execution_count": 53,
     "metadata": {},
     "output_type": "execute_result"
    }
   ],
   "source": [
    "x"
   ]
  },
  {
   "cell_type": "code",
   "execution_count": 67,
   "id": "277595ef",
   "metadata": {},
   "outputs": [],
   "source": [
    "#spliting the data into training and testing data \n",
    "# import sklearn , skelearn package of python \n",
    "from sklearn.model_selection import train_test_split\n",
    "X_train, x_test,y_train, y_test=train_test_split(X,y,test_size=0.2,random_state=0)"
   ]
  },
  {
   "cell_type": "markdown",
   "id": "3b2f9c2c",
   "metadata": {},
   "source": [
    "# Setp 4 - Training the Algorithm"
   ]
  },
  {
   "cell_type": "markdown",
   "id": "b0f25a20",
   "metadata": {},
   "source": [
    "We have split our data into training and testing sets and now is finally the time to train our algorithm"
   ]
  },
  {
   "cell_type": "code",
   "execution_count": 68,
   "id": "5ac1fae2",
   "metadata": {},
   "outputs": [
    {
     "name": "stdout",
     "output_type": "stream",
     "text": [
      "Training Finish \n"
     ]
    }
   ],
   "source": [
    "# import sklearn , skelearn package of python have Machine learning model Linear regression\n",
    "from sklearn.linear_model import LinearRegression\n",
    "model=LinearRegression()\n",
    "model.fit(X_train,y_train)\n",
    "print(\"Training Finish \")"
   ]
  },
  {
   "cell_type": "markdown",
   "id": "30813c8e",
   "metadata": {},
   "source": [
    " ### visulizing Data Model"
   ]
  },
  {
   "cell_type": "code",
   "execution_count": 78,
   "id": "aa34ef84",
   "metadata": {},
   "outputs": [
    {
     "data": {
      "image/png": "[encoded data removed]",
      "text/plain": [
       "<Figure size 792x432 with 1 Axes>"
      ]
     },
     "metadata": {
      "needs_background": "light"
     },
     "output_type": "display_data"
    }
   ],
   "source": [
    "#Plotting the regression line \n",
    "line =model.coef_*X+model.intercept_\n",
    "#plotting for the test data\n",
    "plt.rcParams['figure.figsize']=[11,6] \n",
    "plt.scatter(X,y,color='black')\n",
    "plt.plot(X,line,color='green')\n",
    "plt.xlabel(\"Percentage Scored\")\n",
    "plt.ylabel(\"Hours Studied\")\n",
    "plt.grid()"
   ]
  },
  {
   "cell_type": "code",
   "execution_count": 82,
   "id": "08c475d5",
   "metadata": {},
   "outputs": [
    {
     "data": {
      "image/png": "[encoded data removed]",
      "text/plain": [
       "<Figure size 792x432 with 1 Axes>"
      ]
     },
     "metadata": {
      "needs_background": "light"
     },
     "output_type": "display_data"
    }
   ],
   "source": [
    "plt.rcParams['figure.figsize']=[11,6] \n",
    "plt.scatter(x_test,y_test,color='blue')\n",
    "plt.plot(X,line,color='green')\n",
    "plt.xlabel(\"Percentage Scored\")\n",
    "plt.ylabel(\"Hours Studied\")\n",
    "plt.grid()"
   ]
  },
  {
   "cell_type": "markdown",
   "id": "34d46526",
   "metadata": {},
   "source": [
    "## Step 5 - Making Predictions "
   ]
  },
  {
   "cell_type": "markdown",
   "id": "49eb5c3d",
   "metadata": {},
   "source": [
    "Now that we have trained our algorithm, it's to  make some predictions"
   ]
  },
  {
   "cell_type": "code",
   "execution_count": 87,
   "id": "06c4c469",
   "metadata": {},
   "outputs": [
    {
     "name": "stdout",
     "output_type": "stream",
     "text": [
      "[[1.5]\n",
      " [3.2]\n",
      " [7.4]\n",
      " [2.5]\n",
      " [5.9]]\n"
     ]
    }
   ],
   "source": [
    "print(x_test)#testing data (in hours)\n",
    "y_pred = model.predict(x_test) # Prediction int scores"
   ]
  },
  {
   "cell_type": "code",
   "execution_count": 88,
   "id": "d684301a",
   "metadata": {},
   "outputs": [
    {
     "data": {
      "text/plain": [
       "array([[16.88414476],\n",
       "       [33.73226078],\n",
       "       [75.357018  ],\n",
       "       [26.79480124],\n",
       "       [60.49103328]])"
      ]
     },
     "execution_count": 88,
     "metadata": {},
     "output_type": "execute_result"
    }
   ],
   "source": [
    "y_pred"
   ]
  },
  {
   "cell_type": "code",
   "execution_count": 89,
   "id": "4890a434",
   "metadata": {},
   "outputs": [
    {
     "data": {
      "text/plain": [
       "array([[20],\n",
       "       [27],\n",
       "       [69],\n",
       "       [30],\n",
       "       [62]])"
      ]
     },
     "execution_count": 89,
     "metadata": {},
     "output_type": "execute_result"
    }
   ],
   "source": [
    "y_test"
   ]
  },
  {
   "cell_type": "code",
   "execution_count": 94,
   "id": "ea41bec1",
   "metadata": {},
   "outputs": [
    {
     "data": {
      "text/html": [
       "<div>\n",
       "<style scoped>\n",
       "    .dataframe tbody tr th:only-of-type {\n",
       "        vertical-align: middle;\n",
       "    }\n",
       "\n",
       "    .dataframe tbody tr th {\n",
       "        vertical-align: top;\n",
       "    }\n",
       "\n",
       "    .dataframe thead th {\n",
       "        text-align: right;\n",
       "    }\n",
       "</style>\n",
       "<table border=\"1\" class=\"dataframe\">\n",
       "  <thead>\n",
       "    <tr style=\"text-align: right;\">\n",
       "      <th></th>\n",
       "      <th>Actual</th>\n",
       "      <th>Predicted</th>\n",
       "    </tr>\n",
       "  </thead>\n",
       "  <tbody>\n",
       "    <tr>\n",
       "      <th>0</th>\n",
       "      <td>[[20], [27], [69], [30], [62]]</td>\n",
       "      <td>[[16.884144762398037], [33.73226077948984], [7...</td>\n",
       "    </tr>\n",
       "  </tbody>\n",
       "</table>\n",
       "</div>"
      ],
      "text/plain": [
       "                           Actual  \\\n",
       "0  [[20], [27], [69], [30], [62]]   \n",
       "\n",
       "                                           Predicted  \n",
       "0  [[16.884144762398037], [33.73226077948984], [7...  "
      ]
     },
     "execution_count": 94,
     "metadata": {},
     "output_type": "execute_result"
    }
   ],
   "source": [
    "# Comparing Actual vs Predicted\n",
    "com_df=pd.DataFrame({'Actual':[y_test],'Predicted':[y_pred]})\n",
    "com_df"
   ]
  },
  {
   "cell_type": "code",
   "execution_count": 110,
   "id": "649263c4",
   "metadata": {},
   "outputs": [
    {
     "name": "stdout",
     "output_type": "stream",
     "text": [
      "No of Hours=[[9.25]]\n",
      "predicted Score=[93.69173249]\n"
     ]
    }
   ],
   "source": [
    "# Prediction our data as given\n",
    "hours=9.25\n",
    "own_pred=model.predict([[hours]])\n",
    "print(\"No of Hours={}\".format([[hours]]))\n",
    "print(\"predicted Score={}\".format(own_pred[0]))"
   ]
  },
  {
   "cell_type": "markdown",
   "id": "99781dd9",
   "metadata": {},
   "source": [
    "# Step 6 - Evaluating the model"
   ]
  },
  {
   "cell_type": "markdown",
   "id": "27c830b8",
   "metadata": {},
   "source": [
    "The final step is to evaluate the performance of algorithm. This step is particularly important to compare how well different algorithms perform on a particular dataset. For simplicity here, we have chosen the mean square error. There are many such metrics."
   ]
  },
  {
   "cell_type": "code",
   "execution_count": 112,
   "id": "2ef0dbee",
   "metadata": {},
   "outputs": [
    {
     "name": "stdout",
     "output_type": "stream",
     "text": [
      "Mean Absolute Error: 4.183859899002975\n"
     ]
    }
   ],
   "source": [
    "from sklearn import metrics\n",
    "print(\"Mean Absolute Error:\",metrics.mean_absolute_error(y_test,y_pred))"
   ]
  },
  {
   "cell_type": "code",
   "execution_count": null,
   "id": "d5de4d09",
   "metadata": {},
   "outputs": [],
   "source": []
  }
 ],
 "metadata": {
  "kernelspec": {
   "display_name": "Python 3 (ipykernel)",
   "language": "python",
   "name": "python3"
  },
  "language_info": {
   "codemirror_mode": {
    "name": "ipython",
    "version": 3
   },
   "file_extension": ".py",
   "mimetype": "text/x-python",
   "name": "python",
   "nbconvert_exporter": "python",
   "pygments_lexer": "ipython3",
   "version": "3.9.12"
  }
 },
 "nbformat": 4,
 "nbformat_minor": 5
}
